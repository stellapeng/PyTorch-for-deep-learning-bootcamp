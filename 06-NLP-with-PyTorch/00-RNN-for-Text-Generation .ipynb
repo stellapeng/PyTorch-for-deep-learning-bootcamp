{
 "cells": [
  {
   "cell_type": "markdown",
   "metadata": {},
   "source": [
    "<img src=\"../Pierian-Data-Logo.PNG\">\n",
    "<br>\n",
    "<strong><center>Copyright 2019. Created by Jose Marcial Portilla.</center></strong>\n",
    "\n",
    "# RNN for Text Generation\n",
    "\n",
    "## Generating Text (encoded variables)\n",
    "\n",
    "We saw how to generate continuous values, now let's see how to generalize this to generate categorical sequences (such as words or letters).\n",
    "\n",
    "## Imports"
   ]
  },
  {
   "cell_type": "code",
   "execution_count": 58,
   "metadata": {},
   "outputs": [],
   "source": [
    "import torch\n",
    "from torch import nn\n",
    "import torch.nn.functional as F\n",
    "\n",
    "import numpy as np\n",
    "import matplotlib.pyplot as plt\n",
    "%matplotlib inline"
   ]
  },
  {
   "cell_type": "markdown",
   "metadata": {},
   "source": [
    "## Get Text Data"
   ]
  },
  {
   "cell_type": "code",
   "execution_count": 59,
   "metadata": {},
   "outputs": [],
   "source": [
    "with open('../Data/shakespeare.txt','r',encoding='utf8') as f:\n",
    "    text = f.read()"
   ]
  },
  {
   "cell_type": "code",
   "execution_count": 60,
   "metadata": {},
   "outputs": [
    {
     "data": {
      "text/plain": [
       "\"\\n                     1\\n  From fairest creatures we desire increase,\\n  That thereby beauty's rose might never die,\\n  But as the riper should by time decease,\\n  His tender heir might bear his memory:\\n  But thou contracted to thine own bright eyes,\\n  Feed'st thy light's flame with self-substantial fuel,\\n  Making a famine where abundance lies,\\n  Thy self thy foe, to thy sweet self too cruel:\\n  Thou that art now the world's fresh ornament,\\n  And only herald to the gaudy spring,\\n  Within thine own bud buriest thy content,\\n  And tender churl mak'st waste in niggarding:\\n    Pity the world, or else this glutton be,\\n    To eat the world's due, by the grave and thee.\\n\\n\\n                     2\\n  When forty winters shall besiege thy brow,\\n  And dig deep trenches in thy beauty's field,\\n  Thy youth's proud livery so gazed on now,\\n  Will be a tattered weed of small worth held:  \\n  Then being asked, where all thy beauty lies,\\n  Where all the treasure of thy lusty days;\\n  To say within thine own deep su\""
      ]
     },
     "execution_count": 60,
     "metadata": {},
     "output_type": "execute_result"
    }
   ],
   "source": [
    "text[:1000]"
   ]
  },
  {
   "cell_type": "code",
   "execution_count": 61,
   "metadata": {},
   "outputs": [
    {
     "name": "stdout",
     "output_type": "stream",
     "text": [
      "\n",
      "                     1\n",
      "  From fairest creatures we desire increase,\n",
      "  That thereby beauty's rose might never die,\n",
      "  But as the riper should by time decease,\n",
      "  His tender heir might bear his memory:\n",
      "  But thou contracted to thine own bright eyes,\n",
      "  Feed'st thy light's flame with self-substantial fuel,\n",
      "  Making a famine where abundance lies,\n",
      "  Thy self thy foe, to thy sweet self too cruel:\n",
      "  Thou that art now the world's fresh ornament,\n",
      "  And only herald to the gaudy spring,\n",
      "  Within thine own bud buriest thy content,\n",
      "  And tender churl mak'st waste in niggarding:\n",
      "    Pity the world, or else this glutton be,\n",
      "    To eat the world's due, by the grave and thee.\n",
      "\n",
      "\n",
      "                     2\n",
      "  When forty winters shall besiege thy brow,\n",
      "  And dig deep trenches in thy beauty's field,\n",
      "  Thy youth's proud livery so gazed on now,\n",
      "  Will be a tattered weed of small worth held:  \n",
      "  Then being asked, where all thy beauty lies,\n",
      "  Where all the treasure of thy lusty days;\n",
      "  To say within thine own deep su\n"
     ]
    }
   ],
   "source": [
    "print(text[:1000])"
   ]
  },
  {
   "cell_type": "code",
   "execution_count": 62,
   "metadata": {},
   "outputs": [
    {
     "data": {
      "text/plain": [
       "5445609"
      ]
     },
     "execution_count": 62,
     "metadata": {},
     "output_type": "execute_result"
    }
   ],
   "source": [
    "len(text)"
   ]
  },
  {
   "cell_type": "markdown",
   "metadata": {},
   "source": [
    "## Encode Entire Text"
   ]
  },
  {
   "cell_type": "code",
   "execution_count": 63,
   "metadata": {},
   "outputs": [],
   "source": [
    "all_characters = set(text)"
   ]
  },
  {
   "cell_type": "code",
   "execution_count": 64,
   "metadata": {},
   "outputs": [],
   "source": [
    "# all_characters"
   ]
  },
  {
   "cell_type": "code",
   "execution_count": 65,
   "metadata": {},
   "outputs": [],
   "source": [
    "decoder = dict(enumerate(all_characters))"
   ]
  },
  {
   "cell_type": "code",
   "execution_count": 66,
   "metadata": {},
   "outputs": [
    {
     "data": {
      "text/plain": [
       "dict_items([(0, '9'), (1, 't'), (2, ','), (3, 'k'), (4, '`'), (5, '2'), (6, 'g'), (7, 'q'), (8, 'I'), (9, 'R'), (10, ';'), (11, 'd'), (12, 'Y'), (13, 'H'), (14, 'F'), (15, 'o'), (16, '5'), (17, 'x'), (18, 's'), (19, 'M'), (20, '.'), (21, 'm'), (22, 'A'), (23, 'L'), (24, '\\n'), (25, 'C'), (26, \"'\"), (27, '['), (28, 'Z'), (29, 'U'), (30, 'X'), (31, 'D'), (32, '6'), (33, 'J'), (34, 'c'), (35, 'v'), (36, 'z'), (37, 'l'), (38, 'N'), (39, 'h'), (40, '>'), (41, '!'), (42, 'y'), (43, '0'), (44, '-'), (45, 'a'), (46, ')'), (47, 'T'), (48, 'i'), (49, 'B'), (50, '4'), (51, '('), (52, '_'), (53, ' '), (54, ':'), (55, '?'), (56, 'S'), (57, '&'), (58, '1'), (59, 'P'), (60, 'G'), (61, '3'), (62, 'n'), (63, 'j'), (64, 'O'), (65, '}'), (66, '8'), (67, '|'), (68, '7'), (69, 'Q'), (70, 'E'), (71, 'b'), (72, '<'), (73, 'W'), (74, 'K'), (75, 'u'), (76, ']'), (77, '\"'), (78, 'r'), (79, 'V'), (80, 'e'), (81, 'f'), (82, 'w'), (83, 'p')])"
      ]
     },
     "execution_count": 66,
     "metadata": {},
     "output_type": "execute_result"
    }
   ],
   "source": [
    "decoder\n",
    "decoder.items()"
   ]
  },
  {
   "cell_type": "code",
   "execution_count": 67,
   "metadata": {},
   "outputs": [],
   "source": [
    "encoder = {char: ind for ind,char in decoder.items()}"
   ]
  },
  {
   "cell_type": "code",
   "execution_count": 68,
   "metadata": {},
   "outputs": [],
   "source": [
    "from collections import Counter\n",
    "# Counter(all_characters)"
   ]
  },
  {
   "cell_type": "code",
   "execution_count": 69,
   "metadata": {},
   "outputs": [
    {
     "data": {
      "text/plain": [
       "{'9': 0,\n",
       " 't': 1,\n",
       " ',': 2,\n",
       " 'k': 3,\n",
       " '`': 4,\n",
       " '2': 5,\n",
       " 'g': 6,\n",
       " 'q': 7,\n",
       " 'I': 8,\n",
       " 'R': 9,\n",
       " ';': 10,\n",
       " 'd': 11,\n",
       " 'Y': 12,\n",
       " 'H': 13,\n",
       " 'F': 14,\n",
       " 'o': 15,\n",
       " '5': 16,\n",
       " 'x': 17,\n",
       " 's': 18,\n",
       " 'M': 19,\n",
       " '.': 20,\n",
       " 'm': 21,\n",
       " 'A': 22,\n",
       " 'L': 23,\n",
       " '\\n': 24,\n",
       " 'C': 25,\n",
       " \"'\": 26,\n",
       " '[': 27,\n",
       " 'Z': 28,\n",
       " 'U': 29,\n",
       " 'X': 30,\n",
       " 'D': 31,\n",
       " '6': 32,\n",
       " 'J': 33,\n",
       " 'c': 34,\n",
       " 'v': 35,\n",
       " 'z': 36,\n",
       " 'l': 37,\n",
       " 'N': 38,\n",
       " 'h': 39,\n",
       " '>': 40,\n",
       " '!': 41,\n",
       " 'y': 42,\n",
       " '0': 43,\n",
       " '-': 44,\n",
       " 'a': 45,\n",
       " ')': 46,\n",
       " 'T': 47,\n",
       " 'i': 48,\n",
       " 'B': 49,\n",
       " '4': 50,\n",
       " '(': 51,\n",
       " '_': 52,\n",
       " ' ': 53,\n",
       " ':': 54,\n",
       " '?': 55,\n",
       " 'S': 56,\n",
       " '&': 57,\n",
       " '1': 58,\n",
       " 'P': 59,\n",
       " 'G': 60,\n",
       " '3': 61,\n",
       " 'n': 62,\n",
       " 'j': 63,\n",
       " 'O': 64,\n",
       " '}': 65,\n",
       " '8': 66,\n",
       " '|': 67,\n",
       " '7': 68,\n",
       " 'Q': 69,\n",
       " 'E': 70,\n",
       " 'b': 71,\n",
       " '<': 72,\n",
       " 'W': 73,\n",
       " 'K': 74,\n",
       " 'u': 75,\n",
       " ']': 76,\n",
       " '\"': 77,\n",
       " 'r': 78,\n",
       " 'V': 79,\n",
       " 'e': 80,\n",
       " 'f': 81,\n",
       " 'w': 82,\n",
       " 'p': 83}"
      ]
     },
     "execution_count": 69,
     "metadata": {},
     "output_type": "execute_result"
    }
   ],
   "source": [
    "encoder"
   ]
  },
  {
   "cell_type": "code",
   "execution_count": 70,
   "metadata": {},
   "outputs": [],
   "source": [
    "encoded_text = np.array([encoder[char] for char in text])"
   ]
  },
  {
   "cell_type": "code",
   "execution_count": 71,
   "metadata": {},
   "outputs": [
    {
     "data": {
      "text/plain": [
       "array([24, 53, 53, 53, 53, 53, 53, 53, 53, 53, 53, 53, 53, 53, 53, 53, 53,\n",
       "       53, 53, 53, 53, 53, 58, 24, 53, 53, 14, 78, 15, 21, 53, 81, 45, 48,\n",
       "       78, 80, 18,  1, 53, 34, 78, 80, 45,  1, 75, 78, 80, 18, 53, 82, 80,\n",
       "       53, 11, 80, 18, 48, 78, 80, 53, 48, 62, 34, 78, 80, 45, 18, 80,  2,\n",
       "       24, 53, 53, 47, 39, 45,  1, 53,  1, 39, 80, 78, 80, 71, 42, 53, 71,\n",
       "       80, 45, 75,  1, 42, 26, 18, 53, 78, 15, 18, 80, 53, 21, 48,  6, 39,\n",
       "        1, 53, 62, 80, 35, 80, 78, 53, 11, 48, 80,  2, 24, 53, 53, 49, 75,\n",
       "        1, 53, 45, 18, 53,  1, 39, 80, 53, 78, 48, 83, 80, 78, 53, 18, 39,\n",
       "       15, 75, 37, 11, 53, 71, 42, 53,  1, 48, 21, 80, 53, 11, 80, 34, 80,\n",
       "       45, 18, 80,  2, 24, 53, 53, 13, 48, 18, 53,  1, 80, 62, 11, 80, 78,\n",
       "       53, 39, 80, 48, 78, 53, 21, 48,  6, 39,  1, 53, 71, 80, 45, 78, 53,\n",
       "       39, 48, 18, 53, 21, 80, 21, 15, 78, 42, 54, 24, 53, 53, 49, 75,  1,\n",
       "       53,  1, 39, 15, 75, 53, 34, 15, 62,  1, 78, 45, 34,  1, 80, 11, 53,\n",
       "        1, 15, 53,  1, 39, 48, 62, 80, 53, 15, 82, 62, 53, 71, 78, 48,  6,\n",
       "       39,  1, 53, 80, 42, 80, 18,  2, 24, 53, 53, 14, 80, 80, 11, 26, 18,\n",
       "        1, 53,  1, 39, 42, 53, 37, 48,  6, 39,  1, 26, 18, 53, 81, 37, 45,\n",
       "       21, 80, 53, 82, 48,  1, 39, 53, 18, 80, 37, 81, 44, 18, 75, 71, 18,\n",
       "        1, 45, 62,  1, 48, 45, 37, 53, 81, 75, 80, 37,  2, 24, 53, 53, 19,\n",
       "       45,  3, 48, 62,  6, 53, 45, 53, 81, 45, 21, 48, 62, 80, 53, 82, 39,\n",
       "       80, 78, 80, 53, 45, 71, 75, 62, 11, 45, 62, 34, 80, 53, 37, 48, 80,\n",
       "       18,  2, 24, 53, 53, 47, 39, 42, 53, 18, 80, 37, 81, 53,  1, 39, 42,\n",
       "       53, 81, 15, 80,  2, 53,  1, 15, 53,  1, 39, 42, 53, 18, 82, 80, 80,\n",
       "        1, 53, 18, 80, 37, 81, 53,  1, 15, 15, 53, 34, 78, 75, 80, 37, 54,\n",
       "       24, 53, 53, 47, 39, 15, 75, 53,  1, 39, 45,  1, 53, 45, 78,  1, 53,\n",
       "       62, 15, 82, 53,  1, 39, 80, 53, 82, 15, 78, 37, 11, 26, 18, 53, 81,\n",
       "       78, 80, 18, 39, 53, 15, 78, 62, 45, 21, 80, 62,  1,  2, 24, 53, 53,\n",
       "       22, 62, 11, 53, 15, 62, 37, 42, 53, 39, 80, 78, 45, 37, 11, 53,  1,\n",
       "       15, 53,  1, 39, 80, 53,  6, 45, 75, 11, 42, 53, 18, 83, 78, 48, 62,\n",
       "        6,  2, 24, 53, 53, 73, 48,  1, 39, 48, 62, 53,  1, 39, 48, 62, 80,\n",
       "       53, 15, 82, 62, 53, 71, 75])"
      ]
     },
     "execution_count": 71,
     "metadata": {},
     "output_type": "execute_result"
    }
   ],
   "source": [
    "encoded_text[:500]"
   ]
  },
  {
   "cell_type": "markdown",
   "metadata": {},
   "source": [
    "## One Hot Encoding\n",
    "\n",
    "As previously discussed, we need to one-hot encode our data inorder for it to work with the network structure. Make sure to review numpy if any of these operations confuse you!"
   ]
  },
  {
   "cell_type": "code",
   "execution_count": 72,
   "metadata": {},
   "outputs": [],
   "source": [
    "def one_hot_encoder(encoded_text, num_uni_chars):\n",
    "    '''\n",
    "    encoded_text : batch of encoded text\n",
    "    \n",
    "    num_uni_chars = number of unique characters (len(set(text)))\n",
    "    '''\n",
    "    \n",
    "    # METHOD FROM:\n",
    "    # https://stackoverflow.com/questions/29831489/convert-encoded_textay-of-indices-to-1-hot-encoded-numpy-encoded_textay\n",
    "      \n",
    "    # Create a placeholder for zeros.\n",
    "    one_hot = np.zeros((encoded_text.size, num_uni_chars))\n",
    "    \n",
    "    # Convert data type for later use with pytorch (errors if we dont!)\n",
    "    one_hot = one_hot.astype(np.float32)\n",
    "\n",
    "    # Using fancy indexing fill in the 1s at the correct index locations\n",
    "    one_hot[np.arange(one_hot.shape[0]), encoded_text.flatten()] = 1.0\n",
    "    \n",
    "\n",
    "    # Reshape it so it matches the batch sahe\n",
    "    one_hot = one_hot.reshape((*encoded_text.shape, num_uni_chars))\n",
    "    \n",
    "    return one_hot"
   ]
  },
  {
   "cell_type": "code",
   "execution_count": 73,
   "metadata": {},
   "outputs": [],
   "source": [
    "one_hot = np.zeros((np.array([1,2,0]).size,3))\n",
    "one_hot = one_hot.astype(np.float32)\n",
    "\n",
    "# Using fancy indexing fill in the 1s at the correct index locations\n",
    "one_hot[np.arange(one_hot.shape[0]), np.array([1,2,0]).flatten()] = 1.0"
   ]
  },
  {
   "cell_type": "code",
   "execution_count": 74,
   "metadata": {},
   "outputs": [
    {
     "data": {
      "text/plain": [
       "array([[0., 1., 0.],\n",
       "       [0., 0., 1.],\n",
       "       [1., 0., 0.]], dtype=float32)"
      ]
     },
     "execution_count": 74,
     "metadata": {},
     "output_type": "execute_result"
    }
   ],
   "source": [
    "one_hot_encoder(np.array([1,2,0]),3)"
   ]
  },
  {
   "cell_type": "markdown",
   "metadata": {},
   "source": [
    "--------------\n",
    "---------------\n",
    "# Creating Training Batches\n",
    "\n",
    "We need to create a function that will generate batches of characters along with the next character in the sequence as a label.\n",
    "\n",
    "-----------------\n",
    "------------"
   ]
  },
  {
   "cell_type": "code",
   "execution_count": 75,
   "metadata": {},
   "outputs": [],
   "source": [
    "example_text = np.arange(10)"
   ]
  },
  {
   "cell_type": "code",
   "execution_count": 76,
   "metadata": {},
   "outputs": [
    {
     "data": {
      "text/plain": [
       "array([0, 1, 2, 3, 4, 5, 6, 7, 8, 9])"
      ]
     },
     "execution_count": 76,
     "metadata": {},
     "output_type": "execute_result"
    }
   ],
   "source": [
    "example_text"
   ]
  },
  {
   "cell_type": "code",
   "execution_count": 77,
   "metadata": {},
   "outputs": [
    {
     "data": {
      "text/plain": [
       "array([[0, 1],\n",
       "       [2, 3],\n",
       "       [4, 5],\n",
       "       [6, 7],\n",
       "       [8, 9]])"
      ]
     },
     "execution_count": 77,
     "metadata": {},
     "output_type": "execute_result"
    }
   ],
   "source": [
    "# If we wanted 5 batches\n",
    "example_text.reshape((5,-1))"
   ]
  },
  {
   "cell_type": "code",
   "execution_count": 78,
   "metadata": {},
   "outputs": [],
   "source": [
    "def generate_batches(encoded_text, samp_per_batch=10, seq_len=50):\n",
    "    \n",
    "    '''\n",
    "    Generate (using yield) batches for training.\n",
    "    \n",
    "    X: Encoded Text of length seq_len\n",
    "    Y: Encoded Text shifted by one\n",
    "    \n",
    "    Example:\n",
    "    \n",
    "    X:\n",
    "    \n",
    "    [[1 2 3]]\n",
    "    \n",
    "    Y:\n",
    "    \n",
    "    [[ 2 3 4]]\n",
    "    \n",
    "    encoded_text : Complete Encoded Text to make batches from\n",
    "    batch_size : Number of samples per batch\n",
    "    seq_len : Length of character sequence\n",
    "       \n",
    "    '''\n",
    "    \n",
    "    # Total number of characters per batch\n",
    "    # Example: If samp_per_batch is 2 and seq_len is 50, then 100\n",
    "    # characters come out per batch.\n",
    "    char_per_batch = samp_per_batch * seq_len\n",
    "    \n",
    "    \n",
    "    # Number of batches available to make\n",
    "    # Use int() to roun to nearest integer\n",
    "    num_batches_avail = int(len(encoded_text)/char_per_batch)\n",
    "    \n",
    "    # Cut off end of encoded_text that\n",
    "    # won't fit evenly into a batch\n",
    "    encoded_text = encoded_text[:num_batches_avail * char_per_batch]\n",
    "    \n",
    "    \n",
    "    # Reshape text into rows the size of a batch\n",
    "    encoded_text = encoded_text.reshape((samp_per_batch, -1))\n",
    "    \n",
    "\n",
    "    # Go through each row in array.\n",
    "    for n in range(0, encoded_text.shape[1], seq_len):\n",
    "        \n",
    "        # Grab feature characters\n",
    "        x = encoded_text[:, n:n+seq_len]\n",
    "        \n",
    "        # y is the target shifted over by 1\n",
    "        y = np.zeros_like(x)\n",
    "       \n",
    "        #\n",
    "        try:\n",
    "            y[:, :-1] = x[:, 1:]\n",
    "            y[:, -1]  = encoded_text[:, n+seq_len] # potential out of range error\n",
    "            \n",
    "        # FOR POTENTIAL INDEXING ERROR AT THE END    \n",
    "        except:\n",
    "            y[:, :-1] = x[:, 1:]\n",
    "            y[:, -1] = encoded_text[:, 0] # the first item\n",
    "            \n",
    "        yield x, y"
   ]
  },
  {
   "cell_type": "markdown",
   "metadata": {},
   "source": [
    "### Example of generating a batch"
   ]
  },
  {
   "cell_type": "code",
   "execution_count": 81,
   "metadata": {},
   "outputs": [],
   "source": [
    "sample_text = encoded_text[:20]"
   ]
  },
  {
   "cell_type": "code",
   "execution_count": 146,
   "metadata": {},
   "outputs": [],
   "source": [
    "sample_text = np.arange(21)"
   ]
  },
  {
   "cell_type": "code",
   "execution_count": 147,
   "metadata": {},
   "outputs": [],
   "source": [
    "batch_generator = generate_batches(sample_text,samp_per_batch=2,seq_len=5)"
   ]
  },
  {
   "cell_type": "code",
   "execution_count": 148,
   "metadata": {},
   "outputs": [],
   "source": [
    "# Grab first batch\n",
    "x, y = next(batch_generator)"
   ]
  },
  {
   "cell_type": "code",
   "execution_count": 149,
   "metadata": {},
   "outputs": [
    {
     "data": {
      "text/plain": [
       "array([[ 0,  1,  2,  3,  4],\n",
       "       [10, 11, 12, 13, 14]])"
      ]
     },
     "execution_count": 149,
     "metadata": {},
     "output_type": "execute_result"
    }
   ],
   "source": [
    "x"
   ]
  },
  {
   "cell_type": "code",
   "execution_count": 150,
   "metadata": {
    "scrolled": true
   },
   "outputs": [
    {
     "data": {
      "text/plain": [
       "array([[ 1,  2,  3,  4,  5],\n",
       "       [11, 12, 13, 14, 15]])"
      ]
     },
     "execution_count": 150,
     "metadata": {},
     "output_type": "execute_result"
    }
   ],
   "source": [
    "y"
   ]
  },
  {
   "cell_type": "code",
   "execution_count": 151,
   "metadata": {},
   "outputs": [],
   "source": [
    "# Grab first batch\n",
    "x, y = next(batch_generator)"
   ]
  },
  {
   "cell_type": "code",
   "execution_count": 152,
   "metadata": {},
   "outputs": [
    {
     "data": {
      "text/plain": [
       "array([[ 5,  6,  7,  8,  9],\n",
       "       [15, 16, 17, 18, 19]])"
      ]
     },
     "execution_count": 152,
     "metadata": {},
     "output_type": "execute_result"
    }
   ],
   "source": [
    "x"
   ]
  },
  {
   "cell_type": "code",
   "execution_count": 153,
   "metadata": {},
   "outputs": [
    {
     "data": {
      "text/plain": [
       "array([[ 6,  7,  8,  9,  0],\n",
       "       [16, 17, 18, 19, 10]])"
      ]
     },
     "execution_count": 153,
     "metadata": {},
     "output_type": "execute_result"
    }
   ],
   "source": [
    "y"
   ]
  },
  {
   "cell_type": "markdown",
   "metadata": {},
   "source": [
    "--------"
   ]
  },
  {
   "cell_type": "markdown",
   "metadata": {},
   "source": [
    "## GPU Check\n",
    "\n",
    "Remember this will take a lot longer on CPU!"
   ]
  },
  {
   "cell_type": "code",
   "execution_count": 26,
   "metadata": {},
   "outputs": [
    {
     "data": {
      "text/plain": [
       "True"
      ]
     },
     "execution_count": 26,
     "metadata": {},
     "output_type": "execute_result"
    }
   ],
   "source": [
    "torch.cuda.is_available()"
   ]
  },
  {
   "cell_type": "markdown",
   "metadata": {},
   "source": [
    "# Creating the LSTM Model\n",
    "\n",
    "**Note! We will have options for GPU users and CPU users. CPU will take MUCH LONGER to train and you may encounter RAM issues depending on your hardware. If that is the case, consider using cloud services like AWS, GCP, or Azure. Note, these may cost you money to use!**"
   ]
  },
  {
   "cell_type": "code",
   "execution_count": 155,
   "metadata": {},
   "outputs": [],
   "source": [
    "class CharModel(nn.Module):\n",
    "    \n",
    "    def __init__(self, all_chars, num_hidden=256, num_layers=4,drop_prob=0.5,use_gpu=False):\n",
    "        \n",
    "        \n",
    "        # SET UP ATTRIBUTES\n",
    "        super().__init__()\n",
    "        self.drop_prob = drop_prob\n",
    "        self.num_layers = num_layers\n",
    "        self.num_hidden = num_hidden\n",
    "        self.use_gpu = use_gpu\n",
    "        \n",
    "        #CHARACTER SET, ENCODER, and DECODER\n",
    "        self.all_chars = all_chars\n",
    "        self.decoder = dict(enumerate(all_chars))\n",
    "        self.encoder = {char: ind for ind,char in decoder.items()}\n",
    "        \n",
    "        \n",
    "        self.lstm = nn.LSTM(len(self.all_chars), num_hidden, num_layers, dropout=drop_prob, batch_first=True)\n",
    "        \n",
    "        self.dropout = nn.Dropout(drop_prob)\n",
    "        \n",
    "        self.fc_linear = nn.Linear(num_hidden, len(self.all_chars))\n",
    "      \n",
    "    \n",
    "    def forward(self, x, hidden):\n",
    "                  \n",
    "        \n",
    "        lstm_output, hidden = self.lstm(x, hidden)\n",
    "        \n",
    "        \n",
    "        drop_output = self.dropout(lstm_output)\n",
    "        \n",
    "        drop_output = drop_output.contiguous().view(-1, self.num_hidden)\n",
    "        \n",
    "        \n",
    "        final_out = self.fc_linear(drop_output)\n",
    "        \n",
    "        \n",
    "        return final_out, hidden\n",
    "    \n",
    "    \n",
    "    def hidden_state(self, batch_size):\n",
    "        '''\n",
    "        Used as separate method to account for both GPU and CPU users.\n",
    "        '''\n",
    "        \n",
    "        if self.use_gpu:\n",
    "            \n",
    "            hidden = (torch.zeros(self.num_layers,batch_size,self.num_hidden).cuda(),\n",
    "                     torch.zeros(self.num_layers,batch_size,self.num_hidden).cuda())\n",
    "        else:\n",
    "            hidden = (torch.zeros(self.num_layers,batch_size,self.num_hidden),\n",
    "                     torch.zeros(self.num_layers,batch_size,self.num_hidden))\n",
    "        \n",
    "        return hidden\n",
    "        "
   ]
  },
  {
   "cell_type": "markdown",
   "metadata": {},
   "source": [
    "## Instance of the Model"
   ]
  },
  {
   "cell_type": "code",
   "execution_count": 156,
   "metadata": {},
   "outputs": [],
   "source": [
    "model = CharModel(\n",
    "    all_chars=all_characters,\n",
    "    num_hidden=512,\n",
    "    num_layers=3,\n",
    "    drop_prob=0.5,\n",
    "    use_gpu=True,\n",
    ")"
   ]
  },
  {
   "cell_type": "code",
   "execution_count": 157,
   "metadata": {},
   "outputs": [],
   "source": [
    "total_param  = []\n",
    "for p in model.parameters():\n",
    "    total_param.append(int(p.numel()))"
   ]
  },
  {
   "cell_type": "markdown",
   "metadata": {},
   "source": [
    "Try to make the total_parameters be roughly the same magnitude as the number of characters in the text."
   ]
  },
  {
   "cell_type": "code",
   "execution_count": 30,
   "metadata": {},
   "outputs": [
    {
     "data": {
      "text/plain": [
       "5470292"
      ]
     },
     "execution_count": 30,
     "metadata": {},
     "output_type": "execute_result"
    }
   ],
   "source": [
    "sum(total_param)"
   ]
  },
  {
   "cell_type": "code",
   "execution_count": 31,
   "metadata": {},
   "outputs": [
    {
     "data": {
      "text/plain": [
       "5445609"
      ]
     },
     "execution_count": 31,
     "metadata": {},
     "output_type": "execute_result"
    }
   ],
   "source": [
    "len(encoded_text)"
   ]
  },
  {
   "cell_type": "markdown",
   "metadata": {},
   "source": [
    "### Optimizer and Loss"
   ]
  },
  {
   "cell_type": "code",
   "execution_count": 32,
   "metadata": {},
   "outputs": [],
   "source": [
    "optimizer = torch.optim.Adam(model.parameters(),lr=0.001)\n",
    "criterion = nn.CrossEntropyLoss()"
   ]
  },
  {
   "cell_type": "markdown",
   "metadata": {},
   "source": [
    "## Training Data and Validation Data"
   ]
  },
  {
   "cell_type": "code",
   "execution_count": 33,
   "metadata": {},
   "outputs": [],
   "source": [
    "# percentage of data to be used for training\n",
    "train_percent = 0.1"
   ]
  },
  {
   "cell_type": "code",
   "execution_count": 34,
   "metadata": {},
   "outputs": [
    {
     "data": {
      "text/plain": [
       "5445609"
      ]
     },
     "execution_count": 34,
     "metadata": {},
     "output_type": "execute_result"
    }
   ],
   "source": [
    "len(encoded_text)"
   ]
  },
  {
   "cell_type": "code",
   "execution_count": 35,
   "metadata": {},
   "outputs": [
    {
     "data": {
      "text/plain": [
       "544560"
      ]
     },
     "execution_count": 35,
     "metadata": {},
     "output_type": "execute_result"
    }
   ],
   "source": [
    "int(len(encoded_text) * (train_percent))"
   ]
  },
  {
   "cell_type": "code",
   "execution_count": 36,
   "metadata": {},
   "outputs": [],
   "source": [
    "train_ind = int(len(encoded_text) * (train_percent))"
   ]
  },
  {
   "cell_type": "code",
   "execution_count": 37,
   "metadata": {},
   "outputs": [],
   "source": [
    "train_data = encoded_text[:train_ind]\n",
    "val_data = encoded_text[train_ind:]"
   ]
  },
  {
   "cell_type": "markdown",
   "metadata": {},
   "source": [
    "# Training the Network"
   ]
  },
  {
   "cell_type": "markdown",
   "metadata": {},
   "source": [
    "## Variables\n",
    "\n",
    "Feel free to play around with these values!"
   ]
  },
  {
   "cell_type": "code",
   "execution_count": 38,
   "metadata": {},
   "outputs": [],
   "source": [
    "## VARIABLES\n",
    "\n",
    "# Epochs to train for\n",
    "epochs = 50\n",
    "# batch size \n",
    "batch_size = 128\n",
    "\n",
    "# Length of sequence\n",
    "seq_len = 100\n",
    "\n",
    "# for printing report purposes\n",
    "# always start at 0\n",
    "tracker = 0\n",
    "\n",
    "# number of characters in text\n",
    "num_char = max(encoded_text)+1"
   ]
  },
  {
   "cell_type": "markdown",
   "metadata": {},
   "source": [
    "------"
   ]
  },
  {
   "cell_type": "code",
   "execution_count": 39,
   "metadata": {},
   "outputs": [
    {
     "name": "stdout",
     "output_type": "stream",
     "text": [
      "Epoch: 0 Step: 25 Val Loss: 3.241183280944824\n",
      "Epoch: 1 Step: 50 Val Loss: 3.2209343910217285\n",
      "Epoch: 1 Step: 75 Val Loss: 3.2246036529541016\n",
      "Epoch: 2 Step: 100 Val Loss: 3.103549003601074\n",
      "Epoch: 2 Step: 125 Val Loss: 3.0078160762786865\n",
      "Epoch: 3 Step: 150 Val Loss: 2.8424694538116455\n",
      "Epoch: 4 Step: 175 Val Loss: 2.7311224937438965\n",
      "Epoch: 4 Step: 200 Val Loss: 2.6245357990264893\n",
      "Epoch: 5 Step: 225 Val Loss: 2.530056953430176\n",
      "Epoch: 5 Step: 250 Val Loss: 2.511744737625122\n",
      "Epoch: 6 Step: 275 Val Loss: 2.424506187438965\n",
      "Epoch: 7 Step: 300 Val Loss: 2.3757734298706055\n",
      "Epoch: 7 Step: 325 Val Loss: 2.3281121253967285\n",
      "Epoch: 8 Step: 350 Val Loss: 2.287860631942749\n",
      "Epoch: 8 Step: 375 Val Loss: 2.258666515350342\n",
      "Epoch: 9 Step: 400 Val Loss: 2.219432830810547\n",
      "Epoch: 10 Step: 425 Val Loss: 2.1962826251983643\n",
      "Epoch: 10 Step: 450 Val Loss: 2.1531155109405518\n",
      "Epoch: 11 Step: 475 Val Loss: 2.12485408782959\n",
      "Epoch: 11 Step: 500 Val Loss: 2.102055072784424\n",
      "Epoch: 12 Step: 525 Val Loss: 2.0815775394439697\n",
      "Epoch: 13 Step: 550 Val Loss: 2.065098524093628\n",
      "Epoch: 13 Step: 575 Val Loss: 2.045565366744995\n",
      "Epoch: 14 Step: 600 Val Loss: 2.024740695953369\n",
      "Epoch: 14 Step: 625 Val Loss: 2.002650737762451\n",
      "Epoch: 15 Step: 650 Val Loss: 1.9918841123580933\n",
      "Epoch: 16 Step: 675 Val Loss: 1.973698616027832\n",
      "Epoch: 16 Step: 700 Val Loss: 1.9563044309616089\n",
      "Epoch: 17 Step: 725 Val Loss: 1.941154956817627\n",
      "Epoch: 17 Step: 750 Val Loss: 1.9296284914016724\n",
      "Epoch: 18 Step: 775 Val Loss: 1.9155606031417847\n",
      "Epoch: 19 Step: 800 Val Loss: 1.9066412448883057\n",
      "Epoch: 19 Step: 825 Val Loss: 1.8944147825241089\n",
      "Epoch: 20 Step: 850 Val Loss: 1.8825374841690063\n",
      "Epoch: 20 Step: 875 Val Loss: 1.8753138780593872\n",
      "Epoch: 21 Step: 900 Val Loss: 1.8679431676864624\n",
      "Epoch: 22 Step: 925 Val Loss: 1.8626611232757568\n",
      "Epoch: 22 Step: 950 Val Loss: 1.8534228801727295\n",
      "Epoch: 23 Step: 975 Val Loss: 1.8416558504104614\n",
      "Epoch: 23 Step: 1000 Val Loss: 1.8408966064453125\n",
      "Epoch: 24 Step: 1025 Val Loss: 1.832461953163147\n",
      "Epoch: 24 Step: 1050 Val Loss: 1.8274987936019897\n",
      "Epoch: 25 Step: 1075 Val Loss: 1.8215422630310059\n",
      "Epoch: 26 Step: 1100 Val Loss: 1.8141027688980103\n",
      "Epoch: 26 Step: 1125 Val Loss: 1.8090591430664062\n",
      "Epoch: 27 Step: 1150 Val Loss: 1.808109998703003\n",
      "Epoch: 27 Step: 1175 Val Loss: 1.798502802848816\n",
      "Epoch: 28 Step: 1200 Val Loss: 1.8020660877227783\n",
      "Epoch: 29 Step: 1225 Val Loss: 1.7935495376586914\n",
      "Epoch: 29 Step: 1250 Val Loss: 1.7842048406600952\n",
      "Epoch: 30 Step: 1275 Val Loss: 1.7775088548660278\n",
      "Epoch: 30 Step: 1300 Val Loss: 1.7796084880828857\n",
      "Epoch: 31 Step: 1325 Val Loss: 1.778605341911316\n",
      "Epoch: 32 Step: 1350 Val Loss: 1.778555154800415\n",
      "Epoch: 32 Step: 1375 Val Loss: 1.7726141214370728\n",
      "Epoch: 33 Step: 1400 Val Loss: 1.7713408470153809\n",
      "Epoch: 33 Step: 1425 Val Loss: 1.7647587060928345\n",
      "Epoch: 34 Step: 1450 Val Loss: 1.7639307975769043\n",
      "Epoch: 35 Step: 1475 Val Loss: 1.7668451070785522\n",
      "Epoch: 35 Step: 1500 Val Loss: 1.7553269863128662\n",
      "Epoch: 36 Step: 1525 Val Loss: 1.7537274360656738\n",
      "Epoch: 36 Step: 1550 Val Loss: 1.7476931810379028\n",
      "Epoch: 37 Step: 1575 Val Loss: 1.7471405267715454\n",
      "Epoch: 38 Step: 1600 Val Loss: 1.748685359954834\n",
      "Epoch: 38 Step: 1625 Val Loss: 1.7501276731491089\n",
      "Epoch: 39 Step: 1650 Val Loss: 1.7491378784179688\n",
      "Epoch: 39 Step: 1675 Val Loss: 1.73957097530365\n",
      "Epoch: 40 Step: 1700 Val Loss: 1.7412303686141968\n",
      "Epoch: 41 Step: 1725 Val Loss: 1.7421422004699707\n",
      "Epoch: 41 Step: 1750 Val Loss: 1.7420353889465332\n",
      "Epoch: 42 Step: 1775 Val Loss: 1.732686161994934\n",
      "Epoch: 42 Step: 1800 Val Loss: 1.7336872816085815\n",
      "Epoch: 43 Step: 1825 Val Loss: 1.7360546588897705\n",
      "Epoch: 44 Step: 1850 Val Loss: 1.7357029914855957\n",
      "Epoch: 44 Step: 1875 Val Loss: 1.736457109451294\n",
      "Epoch: 45 Step: 1900 Val Loss: 1.7330776453018188\n",
      "Epoch: 45 Step: 1925 Val Loss: 1.7337615489959717\n",
      "Epoch: 46 Step: 1950 Val Loss: 1.738358736038208\n",
      "Epoch: 47 Step: 1975 Val Loss: 1.7346129417419434\n",
      "Epoch: 47 Step: 2000 Val Loss: 1.743545413017273\n",
      "Epoch: 48 Step: 2025 Val Loss: 1.7326579093933105\n",
      "Epoch: 48 Step: 2050 Val Loss: 1.7226899862289429\n",
      "Epoch: 49 Step: 2075 Val Loss: 1.7329885959625244\n",
      "Epoch: 49 Step: 2100 Val Loss: 1.7302632331848145\n"
     ]
    }
   ],
   "source": [
    "# Set model to train\n",
    "model.train()\n",
    "\n",
    "\n",
    "# Check to see if using GPU\n",
    "if model.use_gpu:\n",
    "    model.cuda()\n",
    "\n",
    "for i in range(epochs):\n",
    "    \n",
    "    hidden = model.hidden_state(batch_size)\n",
    "    \n",
    "    \n",
    "    for x,y in generate_batches(train_data,batch_size,seq_len):\n",
    "        \n",
    "        tracker += 1\n",
    "        \n",
    "        # One Hot Encode incoming data\n",
    "        x = one_hot_encoder(x,num_char)\n",
    "        \n",
    "        # Convert Numpy Arrays to Tensor\n",
    "        \n",
    "        inputs = torch.from_numpy(x)\n",
    "        targets = torch.from_numpy(y)\n",
    "        \n",
    "        # Adjust for GPU if necessary\n",
    "        \n",
    "        if model.use_gpu:\n",
    "            \n",
    "            inputs = inputs.cuda()\n",
    "            targets = targets.cuda()\n",
    "            \n",
    "        # Reset Hidden State\n",
    "        # If we dont' reset we would backpropagate through all training history\n",
    "        hidden = tuple([state.data for state in hidden])\n",
    "        \n",
    "        model.zero_grad()\n",
    "        \n",
    "        lstm_output, hidden = model.forward(inputs,hidden)\n",
    "        loss = criterion(lstm_output,targets.view(batch_size*seq_len).long())\n",
    "        \n",
    "        loss.backward()\n",
    "        \n",
    "        # POSSIBLE EXPLODING GRADIENT PROBLEM!\n",
    "        # LET\"S CLIP JUST IN CASE\n",
    "        nn.utils.clip_grad_norm_(model.parameters(),max_norm=5)\n",
    "        \n",
    "        optimizer.step()\n",
    "        \n",
    "        \n",
    "        \n",
    "        ###################################\n",
    "        ### CHECK ON VALIDATION SET ######\n",
    "        #################################\n",
    "        \n",
    "        if tracker % 25 == 0:\n",
    "            \n",
    "            val_hidden = model.hidden_state(batch_size)\n",
    "            val_losses = []\n",
    "            model.eval()\n",
    "            \n",
    "            for x,y in generate_batches(val_data,batch_size,seq_len):\n",
    "                \n",
    "                # One Hot Encode incoming data\n",
    "                x = one_hot_encoder(x,num_char)\n",
    "                \n",
    "\n",
    "                # Convert Numpy Arrays to Tensor\n",
    "\n",
    "                inputs = torch.from_numpy(x)\n",
    "                targets = torch.from_numpy(y)\n",
    "\n",
    "                # Adjust for GPU if necessary\n",
    "\n",
    "                if model.use_gpu:\n",
    "\n",
    "                    inputs = inputs.cuda()\n",
    "                    targets = targets.cuda()\n",
    "                    \n",
    "                # Reset Hidden State\n",
    "                # If we dont' reset we would backpropagate through \n",
    "                # all training history\n",
    "                val_hidden = tuple([state.data for state in val_hidden])\n",
    "                \n",
    "                lstm_output, val_hidden = model.forward(inputs,val_hidden)\n",
    "                val_loss = criterion(lstm_output,targets.view(batch_size*seq_len).long())\n",
    "        \n",
    "                val_losses.append(val_loss.item())\n",
    "            \n",
    "            # Reset to training model after val for loop\n",
    "            model.train()\n",
    "            \n",
    "            print(f\"Epoch: {i} Step: {tracker} Val Loss: {val_loss.item()}\")"
   ]
  },
  {
   "cell_type": "markdown",
   "metadata": {},
   "source": [
    "-------\n",
    "------\n",
    "\n",
    "## Saving the Model\n",
    "\n",
    "https://pytorch.org/tutorials/beginner/saving_loading_models.html"
   ]
  },
  {
   "cell_type": "code",
   "execution_count": 159,
   "metadata": {},
   "outputs": [],
   "source": [
    "# Be careful to overwrite our original name file!\n",
    "model_name = 'example.net'"
   ]
  },
  {
   "cell_type": "code",
   "execution_count": 41,
   "metadata": {},
   "outputs": [],
   "source": [
    "torch.save(model.state_dict(),model_name)"
   ]
  },
  {
   "cell_type": "markdown",
   "metadata": {},
   "source": [
    "## Load Model"
   ]
  },
  {
   "cell_type": "code",
   "execution_count": 158,
   "metadata": {},
   "outputs": [],
   "source": [
    "# MUST MATCH THE EXACT SAME SETTINGS AS MODEL USED DURING TRAINING!\n",
    "\n",
    "model = CharModel(\n",
    "    all_chars=all_characters,\n",
    "    num_hidden=512,\n",
    "    num_layers=3,\n",
    "    drop_prob=0.5,\n",
    "    use_gpu=True,\n",
    ")"
   ]
  },
  {
   "cell_type": "code",
   "execution_count": 161,
   "metadata": {},
   "outputs": [],
   "source": [
    "model.load_state_dict(torch.load(model_name))\n",
    "model.eval()"
   ]
  },
  {
   "cell_type": "markdown",
   "metadata": {},
   "source": [
    "# Generating Predictions"
   ]
  },
  {
   "cell_type": "markdown",
   "metadata": {},
   "source": [
    "--------"
   ]
  },
  {
   "cell_type": "code",
   "execution_count": 46,
   "metadata": {},
   "outputs": [],
   "source": [
    "def predict_next_char(model, char, hidden=None, k=1):\n",
    "        \n",
    "        # Encode raw letters with model\n",
    "        encoded_text = model.encoder[char]\n",
    "        \n",
    "        # set as numpy array for one hot encoding\n",
    "        # NOTE THE [[ ]] dimensions!!\n",
    "        encoded_text = np.array([[encoded_text]])\n",
    "        \n",
    "        # One hot encoding\n",
    "        encoded_text = one_hot_encoder(encoded_text, len(model.all_chars))\n",
    "        \n",
    "        # Convert to Tensor\n",
    "        inputs = torch.from_numpy(encoded_text)\n",
    "        \n",
    "        # Check for CPU\n",
    "        if(model.use_gpu):\n",
    "            inputs = inputs.cuda()\n",
    "        \n",
    "        \n",
    "        # Grab hidden states\n",
    "        hidden = tuple([state.data for state in hidden])\n",
    "        \n",
    "        \n",
    "        # Run model and get predicted output\n",
    "        lstm_out, hidden = model(inputs, hidden)\n",
    "\n",
    "        \n",
    "        # Convert lstm_out to probabilities\n",
    "        probs = F.softmax(lstm_out, dim=1).data\n",
    "        \n",
    "        \n",
    "        \n",
    "        if(model.use_gpu):\n",
    "            # move back to CPU to use with numpy\n",
    "            probs = probs.cpu()\n",
    "        \n",
    "        \n",
    "        # k determines how many characters to consider\n",
    "        # for our probability choice.\n",
    "        # https://pytorch.org/docs/stable/torch.html#torch.topk\n",
    "        \n",
    "        # Return k largest probabilities in tensor\n",
    "        probs, index_positions = probs.topk(k)\n",
    "        \n",
    "        \n",
    "        index_positions = index_positions.numpy().squeeze()\n",
    "        \n",
    "        # Create array of probabilities\n",
    "        probs = probs.numpy().flatten()\n",
    "        \n",
    "        # Convert to probabilities per index\n",
    "        probs = probs/probs.sum()\n",
    "        \n",
    "        # randomly choose a character based on probabilities\n",
    "        char = np.random.choice(index_positions, p=probs)\n",
    "       \n",
    "        # return the encoded value of the predicted char and the hidden state\n",
    "        return model.decoder[char], hidden"
   ]
  },
  {
   "cell_type": "code",
   "execution_count": 50,
   "metadata": {},
   "outputs": [],
   "source": [
    "def generate_text(model, size, seed='The', k=1):\n",
    "        \n",
    "      \n",
    "    \n",
    "    # CHECK FOR GPU\n",
    "    if(model.use_gpu):\n",
    "        model.cuda()\n",
    "    else:\n",
    "        model.cpu()\n",
    "    \n",
    "    # Evaluation mode\n",
    "    model.eval()\n",
    "    \n",
    "    # begin output from initial seed\n",
    "    output_chars = [c for c in seed]\n",
    "    \n",
    "    # intiate hidden state\n",
    "    hidden = model.hidden_state(1)\n",
    "    \n",
    "    # predict the next character for every character in seed\n",
    "    for char in seed:\n",
    "        char, hidden = predict_next_char(model, char, hidden, k=k)\n",
    "    \n",
    "    # add initial characters to output\n",
    "    output_chars.append(char)\n",
    "    \n",
    "    # Now generate for size requested\n",
    "    for i in range(size):\n",
    "        \n",
    "        # predict based off very last letter in output_chars\n",
    "        char, hidden = predict_next_char(model, output_chars[-1], hidden, k=k)\n",
    "        \n",
    "        # add predicted character\n",
    "        output_chars.append(char)\n",
    "    \n",
    "    # return string of predicted text\n",
    "    return ''.join(output_chars)"
   ]
  },
  {
   "cell_type": "code",
   "execution_count": 51,
   "metadata": {},
   "outputs": [
    {
     "name": "stdout",
     "output_type": "stream",
     "text": [
      "The will true and breathed to me.\n",
      "    If thou wert better to the stare and send thee,\n",
      "    Which hath any trives and sound and stretged,\n",
      "    That have the better send of the constance,\n",
      "    That then that thou shaltst but that have seem surpet\n",
      "    And we had been the self-fight and had their strange,\n",
      "    With his sward shall strave a servant state.\n",
      "    Where this't she is that to the wind of held\n",
      "    That have this serve that she he with the child\n",
      "    Which they were beauty of their command strowes\n",
      "    And truth and strength to the serves and song.\n",
      "    If thou say'st he that hath seen this should still\n",
      "    To she with his both shall see him.\n",
      "    The world was a solder thou to heaven with me,\n",
      "    And should this can stay that I heave make\n",
      "    Which his charge in her shames, and to his state.\n",
      "    That have tho stol'd of this starts to have,  \n",
      "    And we and to the cheeks that to the stol'd\n",
      "    To serve the courtier time of that sense is.\n",
      "    In the summer that that shall not,\n",
      "    That he will s\n"
     ]
    }
   ],
   "source": [
    "print(generate_text(model, 1000, seed='The ', k=3))"
   ]
  },
  {
   "cell_type": "code",
   "execution_count": null,
   "metadata": {},
   "outputs": [],
   "source": []
  }
 ],
 "metadata": {
  "kernelspec": {
   "display_name": "Python 3 (ipykernel)",
   "language": "python",
   "name": "python3"
  },
  "language_info": {
   "codemirror_mode": {
    "name": "ipython",
    "version": 3
   },
   "file_extension": ".py",
   "mimetype": "text/x-python",
   "name": "python",
   "nbconvert_exporter": "python",
   "pygments_lexer": "ipython3",
   "version": "3.7.3"
  }
 },
 "nbformat": 4,
 "nbformat_minor": 2
}
